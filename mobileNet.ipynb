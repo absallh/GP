{
  "nbformat": 4,
  "nbformat_minor": 0,
  "metadata": {
    "colab": {
      "name": "mobileNet.ipynb",
      "provenance": [],
      "collapsed_sections": [],
      "authorship_tag": "ABX9TyMccvUP2REkuHwcQkVrzbx1",
      "include_colab_link": true
    },
    "kernelspec": {
      "name": "python3",
      "display_name": "Python 3"
    },
    "language_info": {
      "name": "python"
    },
    "accelerator": "GPU"
  },
  "cells": [
    {
      "cell_type": "markdown",
      "metadata": {
        "id": "view-in-github",
        "colab_type": "text"
      },
      "source": [
        "<a href=\"https://colab.research.google.com/github/absallh/GP/blob/master/mobileNet.ipynb\" target=\"_parent\"><img src=\"https://colab.research.google.com/assets/colab-badge.svg\" alt=\"Open In Colab\"/></a>"
      ]
    },
    {
      "cell_type": "code",
      "source": [
        "import numpy as np\n",
        "import matplotlib.pyplot as plt\n",
        "%matplotlib inline\n",
        "import os\n",
        "import cv2\n",
        "from tqdm import tqdm\n",
        "import tensorflow as tf\n",
        "from tensorflow import keras\n",
        "import shutil\n",
        "import random\n",
        "from keras.preprocessing.image import ImageDataGenerator\n",
        "import pandas as pd"
      ],
      "metadata": {
        "id": "fw74Qhr5t-Yq"
      },
      "execution_count": 1,
      "outputs": []
    },
    {
      "cell_type": "code",
      "source": [
        "#set up kaggle\n",
        "!pip install kaggle\n",
        "!mkdir ~/.kaggle\n",
        "!cp kaggle.json ~/.kaggle/\n",
        "!chmod 600 ~/.kaggle/kaggle.json"
      ],
      "metadata": {
        "colab": {
          "base_uri": "https://localhost:8080/"
        },
        "id": "5yka_mQr37a0",
        "outputId": "6bd1059a-e86f-4484-9e73-4d58d7a2eb3c"
      },
      "execution_count": 2,
      "outputs": [
        {
          "output_type": "stream",
          "name": "stdout",
          "text": [
            "Requirement already satisfied: kaggle in /usr/local/lib/python3.7/dist-packages (1.5.12)\n",
            "Requirement already satisfied: tqdm in /usr/local/lib/python3.7/dist-packages (from kaggle) (4.62.3)\n",
            "Requirement already satisfied: six>=1.10 in /usr/local/lib/python3.7/dist-packages (from kaggle) (1.15.0)\n",
            "Requirement already satisfied: urllib3 in /usr/local/lib/python3.7/dist-packages (from kaggle) (1.24.3)\n",
            "Requirement already satisfied: python-slugify in /usr/local/lib/python3.7/dist-packages (from kaggle) (5.0.2)\n",
            "Requirement already satisfied: python-dateutil in /usr/local/lib/python3.7/dist-packages (from kaggle) (2.8.2)\n",
            "Requirement already satisfied: requests in /usr/local/lib/python3.7/dist-packages (from kaggle) (2.23.0)\n",
            "Requirement already satisfied: certifi in /usr/local/lib/python3.7/dist-packages (from kaggle) (2021.10.8)\n",
            "Requirement already satisfied: text-unidecode>=1.3 in /usr/local/lib/python3.7/dist-packages (from python-slugify->kaggle) (1.3)\n",
            "Requirement already satisfied: chardet<4,>=3.0.2 in /usr/local/lib/python3.7/dist-packages (from requests->kaggle) (3.0.4)\n",
            "Requirement already satisfied: idna<3,>=2.5 in /usr/local/lib/python3.7/dist-packages (from requests->kaggle) (2.10)\n",
            "mkdir: cannot create directory ‘/root/.kaggle’: File exists\n"
          ]
        }
      ]
    },
    {
      "cell_type": "code",
      "source": [
        "!kaggle datasets download -d paultimothymooney/blood-cells"
      ],
      "metadata": {
        "colab": {
          "base_uri": "https://localhost:8080/"
        },
        "id": "iysCe92g3l1z",
        "outputId": "7d2d3e1f-80f9-4ece-afc1-040f9bb14715"
      },
      "execution_count": 3,
      "outputs": [
        {
          "output_type": "stream",
          "name": "stdout",
          "text": [
            "Downloading blood-cells.zip to /content\n",
            " 93% 101M/108M [00:02<00:00, 32.1MB/s] \n",
            "100% 108M/108M [00:02<00:00, 38.7MB/s]\n"
          ]
        }
      ]
    },
    {
      "cell_type": "code",
      "source": [
        "!unzip blood-cells; rm -v blood-cells.zip"
      ],
      "metadata": {
        "colab": {
          "base_uri": "https://localhost:8080/"
        },
        "id": "dKbZhrMB4Aau",
        "outputId": "955c42c5-9d09-4358-cdd3-b6d5e37ceffa"
      },
      "execution_count": 4,
      "outputs": [
        {
          "output_type": "stream",
          "name": "stdout",
          "text": [
            "Archive:  blood-cells.zip\n",
            "replace dataset-master/dataset-master/Annotations/BloodImage_00000.xml? [y]es, [n]o, [A]ll, [N]one, [r]ename: N\n",
            "removed 'blood-cells.zip'\n"
          ]
        }
      ]
    },
    {
      "cell_type": "code",
      "source": [
        "train_path = '/content/dataset2-master/dataset2-master/images/TRAIN'\n",
        "test_path = '/content/dataset2-master/dataset2-master/images/TEST_SIMPLE'\n",
        "valid_path = '/content/dataset2-master/dataset2-master/images/TEST'"
      ],
      "metadata": {
        "id": "Y0a7lL71vWp_"
      },
      "execution_count": 5,
      "outputs": []
    },
    {
      "cell_type": "code",
      "source": [
        "physical_devices = tf.config.experimental.list_physical_devices('GPU')\n",
        "print(\"Num GPUs Available: \", len(physical_devices))\n",
        "tf.config.experimental.set_memory_growth(physical_devices[0], True)"
      ],
      "metadata": {
        "colab": {
          "base_uri": "https://localhost:8080/"
        },
        "id": "oAQi-5RK8fBy",
        "outputId": "ae88276d-07c9-45d4-c7ef-d1961bb13acc"
      },
      "execution_count": 6,
      "outputs": [
        {
          "output_type": "stream",
          "name": "stdout",
          "text": [
            "Num GPUs Available:  1\n"
          ]
        }
      ]
    },
    {
      "cell_type": "code",
      "source": [
        "train_batches = ImageDataGenerator(preprocessing_function=tf.keras.applications.mobilenet.preprocess_input).flow_from_directory(\n",
        "    directory=train_path, target_size=(224, 224), batch_size=10\n",
        ")\n",
        "test_batches = ImageDataGenerator(preprocessing_function=tf.keras.applications.mobilenet.preprocess_input).flow_from_directory(\n",
        "    directory=test_path, target_size=(224, 224), batch_size=10, shuffle=False\n",
        ")\n",
        "valid_batches = ImageDataGenerator(preprocessing_function=tf.keras.applications.mobilenet.preprocess_input).flow_from_directory(\n",
        "    directory=valid_path, target_size=(224, 224), batch_size=10\n",
        ")"
      ],
      "metadata": {
        "colab": {
          "base_uri": "https://localhost:8080/"
        },
        "id": "nP8_fiFGwau7",
        "outputId": "442c9fb0-0e2b-4e71-ef4c-e4ada3ab1edd"
      },
      "execution_count": 7,
      "outputs": [
        {
          "output_type": "stream",
          "name": "stdout",
          "text": [
            "Found 9957 images belonging to 4 classes.\n",
            "Found 71 images belonging to 4 classes.\n",
            "Found 2487 images belonging to 4 classes.\n"
          ]
        }
      ]
    },
    {
      "cell_type": "code",
      "source": [
        "imgs, labels = next(train_batches)"
      ],
      "metadata": {
        "id": "hoDSOYdZyoB4"
      },
      "execution_count": 8,
      "outputs": []
    },
    {
      "cell_type": "code",
      "source": [
        "mobile = keras.applications.mobilenet.MobileNet()"
      ],
      "metadata": {
        "id": "Yhepu5ipy1ht"
      },
      "execution_count": 9,
      "outputs": []
    },
    {
      "cell_type": "code",
      "source": [
        "mobile.summary()"
      ],
      "metadata": {
        "colab": {
          "base_uri": "https://localhost:8080/"
        },
        "id": "Li5ADq2Ry-J-",
        "outputId": "dac47969-396c-49a7-ea6b-607d5f4d8eda"
      },
      "execution_count": 10,
      "outputs": [
        {
          "output_type": "stream",
          "name": "stdout",
          "text": [
            "Model: \"mobilenet_1.00_224\"\n",
            "_________________________________________________________________\n",
            " Layer (type)                Output Shape              Param #   \n",
            "=================================================================\n",
            " input_1 (InputLayer)        [(None, 224, 224, 3)]     0         \n",
            "                                                                 \n",
            " conv1 (Conv2D)              (None, 112, 112, 32)      864       \n",
            "                                                                 \n",
            " conv1_bn (BatchNormalizatio  (None, 112, 112, 32)     128       \n",
            " n)                                                              \n",
            "                                                                 \n",
            " conv1_relu (ReLU)           (None, 112, 112, 32)      0         \n",
            "                                                                 \n",
            " conv_dw_1 (DepthwiseConv2D)  (None, 112, 112, 32)     288       \n",
            "                                                                 \n",
            " conv_dw_1_bn (BatchNormaliz  (None, 112, 112, 32)     128       \n",
            " ation)                                                          \n",
            "                                                                 \n",
            " conv_dw_1_relu (ReLU)       (None, 112, 112, 32)      0         \n",
            "                                                                 \n",
            " conv_pw_1 (Conv2D)          (None, 112, 112, 64)      2048      \n",
            "                                                                 \n",
            " conv_pw_1_bn (BatchNormaliz  (None, 112, 112, 64)     256       \n",
            " ation)                                                          \n",
            "                                                                 \n",
            " conv_pw_1_relu (ReLU)       (None, 112, 112, 64)      0         \n",
            "                                                                 \n",
            " conv_pad_2 (ZeroPadding2D)  (None, 113, 113, 64)      0         \n",
            "                                                                 \n",
            " conv_dw_2 (DepthwiseConv2D)  (None, 56, 56, 64)       576       \n",
            "                                                                 \n",
            " conv_dw_2_bn (BatchNormaliz  (None, 56, 56, 64)       256       \n",
            " ation)                                                          \n",
            "                                                                 \n",
            " conv_dw_2_relu (ReLU)       (None, 56, 56, 64)        0         \n",
            "                                                                 \n",
            " conv_pw_2 (Conv2D)          (None, 56, 56, 128)       8192      \n",
            "                                                                 \n",
            " conv_pw_2_bn (BatchNormaliz  (None, 56, 56, 128)      512       \n",
            " ation)                                                          \n",
            "                                                                 \n",
            " conv_pw_2_relu (ReLU)       (None, 56, 56, 128)       0         \n",
            "                                                                 \n",
            " conv_dw_3 (DepthwiseConv2D)  (None, 56, 56, 128)      1152      \n",
            "                                                                 \n",
            " conv_dw_3_bn (BatchNormaliz  (None, 56, 56, 128)      512       \n",
            " ation)                                                          \n",
            "                                                                 \n",
            " conv_dw_3_relu (ReLU)       (None, 56, 56, 128)       0         \n",
            "                                                                 \n",
            " conv_pw_3 (Conv2D)          (None, 56, 56, 128)       16384     \n",
            "                                                                 \n",
            " conv_pw_3_bn (BatchNormaliz  (None, 56, 56, 128)      512       \n",
            " ation)                                                          \n",
            "                                                                 \n",
            " conv_pw_3_relu (ReLU)       (None, 56, 56, 128)       0         \n",
            "                                                                 \n",
            " conv_pad_4 (ZeroPadding2D)  (None, 57, 57, 128)       0         \n",
            "                                                                 \n",
            " conv_dw_4 (DepthwiseConv2D)  (None, 28, 28, 128)      1152      \n",
            "                                                                 \n",
            " conv_dw_4_bn (BatchNormaliz  (None, 28, 28, 128)      512       \n",
            " ation)                                                          \n",
            "                                                                 \n",
            " conv_dw_4_relu (ReLU)       (None, 28, 28, 128)       0         \n",
            "                                                                 \n",
            " conv_pw_4 (Conv2D)          (None, 28, 28, 256)       32768     \n",
            "                                                                 \n",
            " conv_pw_4_bn (BatchNormaliz  (None, 28, 28, 256)      1024      \n",
            " ation)                                                          \n",
            "                                                                 \n",
            " conv_pw_4_relu (ReLU)       (None, 28, 28, 256)       0         \n",
            "                                                                 \n",
            " conv_dw_5 (DepthwiseConv2D)  (None, 28, 28, 256)      2304      \n",
            "                                                                 \n",
            " conv_dw_5_bn (BatchNormaliz  (None, 28, 28, 256)      1024      \n",
            " ation)                                                          \n",
            "                                                                 \n",
            " conv_dw_5_relu (ReLU)       (None, 28, 28, 256)       0         \n",
            "                                                                 \n",
            " conv_pw_5 (Conv2D)          (None, 28, 28, 256)       65536     \n",
            "                                                                 \n",
            " conv_pw_5_bn (BatchNormaliz  (None, 28, 28, 256)      1024      \n",
            " ation)                                                          \n",
            "                                                                 \n",
            " conv_pw_5_relu (ReLU)       (None, 28, 28, 256)       0         \n",
            "                                                                 \n",
            " conv_pad_6 (ZeroPadding2D)  (None, 29, 29, 256)       0         \n",
            "                                                                 \n",
            " conv_dw_6 (DepthwiseConv2D)  (None, 14, 14, 256)      2304      \n",
            "                                                                 \n",
            " conv_dw_6_bn (BatchNormaliz  (None, 14, 14, 256)      1024      \n",
            " ation)                                                          \n",
            "                                                                 \n",
            " conv_dw_6_relu (ReLU)       (None, 14, 14, 256)       0         \n",
            "                                                                 \n",
            " conv_pw_6 (Conv2D)          (None, 14, 14, 512)       131072    \n",
            "                                                                 \n",
            " conv_pw_6_bn (BatchNormaliz  (None, 14, 14, 512)      2048      \n",
            " ation)                                                          \n",
            "                                                                 \n",
            " conv_pw_6_relu (ReLU)       (None, 14, 14, 512)       0         \n",
            "                                                                 \n",
            " conv_dw_7 (DepthwiseConv2D)  (None, 14, 14, 512)      4608      \n",
            "                                                                 \n",
            " conv_dw_7_bn (BatchNormaliz  (None, 14, 14, 512)      2048      \n",
            " ation)                                                          \n",
            "                                                                 \n",
            " conv_dw_7_relu (ReLU)       (None, 14, 14, 512)       0         \n",
            "                                                                 \n",
            " conv_pw_7 (Conv2D)          (None, 14, 14, 512)       262144    \n",
            "                                                                 \n",
            " conv_pw_7_bn (BatchNormaliz  (None, 14, 14, 512)      2048      \n",
            " ation)                                                          \n",
            "                                                                 \n",
            " conv_pw_7_relu (ReLU)       (None, 14, 14, 512)       0         \n",
            "                                                                 \n",
            " conv_dw_8 (DepthwiseConv2D)  (None, 14, 14, 512)      4608      \n",
            "                                                                 \n",
            " conv_dw_8_bn (BatchNormaliz  (None, 14, 14, 512)      2048      \n",
            " ation)                                                          \n",
            "                                                                 \n",
            " conv_dw_8_relu (ReLU)       (None, 14, 14, 512)       0         \n",
            "                                                                 \n",
            " conv_pw_8 (Conv2D)          (None, 14, 14, 512)       262144    \n",
            "                                                                 \n",
            " conv_pw_8_bn (BatchNormaliz  (None, 14, 14, 512)      2048      \n",
            " ation)                                                          \n",
            "                                                                 \n",
            " conv_pw_8_relu (ReLU)       (None, 14, 14, 512)       0         \n",
            "                                                                 \n",
            " conv_dw_9 (DepthwiseConv2D)  (None, 14, 14, 512)      4608      \n",
            "                                                                 \n",
            " conv_dw_9_bn (BatchNormaliz  (None, 14, 14, 512)      2048      \n",
            " ation)                                                          \n",
            "                                                                 \n",
            " conv_dw_9_relu (ReLU)       (None, 14, 14, 512)       0         \n",
            "                                                                 \n",
            " conv_pw_9 (Conv2D)          (None, 14, 14, 512)       262144    \n",
            "                                                                 \n",
            " conv_pw_9_bn (BatchNormaliz  (None, 14, 14, 512)      2048      \n",
            " ation)                                                          \n",
            "                                                                 \n",
            " conv_pw_9_relu (ReLU)       (None, 14, 14, 512)       0         \n",
            "                                                                 \n",
            " conv_dw_10 (DepthwiseConv2D  (None, 14, 14, 512)      4608      \n",
            " )                                                               \n",
            "                                                                 \n",
            " conv_dw_10_bn (BatchNormali  (None, 14, 14, 512)      2048      \n",
            " zation)                                                         \n",
            "                                                                 \n",
            " conv_dw_10_relu (ReLU)      (None, 14, 14, 512)       0         \n",
            "                                                                 \n",
            " conv_pw_10 (Conv2D)         (None, 14, 14, 512)       262144    \n",
            "                                                                 \n",
            " conv_pw_10_bn (BatchNormali  (None, 14, 14, 512)      2048      \n",
            " zation)                                                         \n",
            "                                                                 \n",
            " conv_pw_10_relu (ReLU)      (None, 14, 14, 512)       0         \n",
            "                                                                 \n",
            " conv_dw_11 (DepthwiseConv2D  (None, 14, 14, 512)      4608      \n",
            " )                                                               \n",
            "                                                                 \n",
            " conv_dw_11_bn (BatchNormali  (None, 14, 14, 512)      2048      \n",
            " zation)                                                         \n",
            "                                                                 \n",
            " conv_dw_11_relu (ReLU)      (None, 14, 14, 512)       0         \n",
            "                                                                 \n",
            " conv_pw_11 (Conv2D)         (None, 14, 14, 512)       262144    \n",
            "                                                                 \n",
            " conv_pw_11_bn (BatchNormali  (None, 14, 14, 512)      2048      \n",
            " zation)                                                         \n",
            "                                                                 \n",
            " conv_pw_11_relu (ReLU)      (None, 14, 14, 512)       0         \n",
            "                                                                 \n",
            " conv_pad_12 (ZeroPadding2D)  (None, 15, 15, 512)      0         \n",
            "                                                                 \n",
            " conv_dw_12 (DepthwiseConv2D  (None, 7, 7, 512)        4608      \n",
            " )                                                               \n",
            "                                                                 \n",
            " conv_dw_12_bn (BatchNormali  (None, 7, 7, 512)        2048      \n",
            " zation)                                                         \n",
            "                                                                 \n",
            " conv_dw_12_relu (ReLU)      (None, 7, 7, 512)         0         \n",
            "                                                                 \n",
            " conv_pw_12 (Conv2D)         (None, 7, 7, 1024)        524288    \n",
            "                                                                 \n",
            " conv_pw_12_bn (BatchNormali  (None, 7, 7, 1024)       4096      \n",
            " zation)                                                         \n",
            "                                                                 \n",
            " conv_pw_12_relu (ReLU)      (None, 7, 7, 1024)        0         \n",
            "                                                                 \n",
            " conv_dw_13 (DepthwiseConv2D  (None, 7, 7, 1024)       9216      \n",
            " )                                                               \n",
            "                                                                 \n",
            " conv_dw_13_bn (BatchNormali  (None, 7, 7, 1024)       4096      \n",
            " zation)                                                         \n",
            "                                                                 \n",
            " conv_dw_13_relu (ReLU)      (None, 7, 7, 1024)        0         \n",
            "                                                                 \n",
            " conv_pw_13 (Conv2D)         (None, 7, 7, 1024)        1048576   \n",
            "                                                                 \n",
            " conv_pw_13_bn (BatchNormali  (None, 7, 7, 1024)       4096      \n",
            " zation)                                                         \n",
            "                                                                 \n",
            " conv_pw_13_relu (ReLU)      (None, 7, 7, 1024)        0         \n",
            "                                                                 \n",
            " global_average_pooling2d (G  (None, 1, 1, 1024)       0         \n",
            " lobalAveragePooling2D)                                          \n",
            "                                                                 \n",
            " dropout (Dropout)           (None, 1, 1, 1024)        0         \n",
            "                                                                 \n",
            " conv_preds (Conv2D)         (None, 1, 1, 1000)        1025000   \n",
            "                                                                 \n",
            " reshape_2 (Reshape)         (None, 1000)              0         \n",
            "                                                                 \n",
            " predictions (Activation)    (None, 1000)              0         \n",
            "                                                                 \n",
            "=================================================================\n",
            "Total params: 4,253,864\n",
            "Trainable params: 4,231,976\n",
            "Non-trainable params: 21,888\n",
            "_________________________________________________________________\n"
          ]
        }
      ]
    },
    {
      "cell_type": "code",
      "source": [
        "type(mobile)"
      ],
      "metadata": {
        "colab": {
          "base_uri": "https://localhost:8080/"
        },
        "id": "7suko2T8zBB4",
        "outputId": "126bd94f-ee1e-4627-d5a4-e52bc448f189"
      },
      "execution_count": 11,
      "outputs": [
        {
          "output_type": "execute_result",
          "data": {
            "text/plain": [
              "keras.engine.functional.Functional"
            ]
          },
          "metadata": {},
          "execution_count": 11
        }
      ]
    },
    {
      "cell_type": "code",
      "source": [
        "model = keras.Sequential()\n",
        "for layer in mobile.layers[:-1]:\n",
        "  model.add(layer)"
      ],
      "metadata": {
        "id": "MjE8bQbuzGmH"
      },
      "execution_count": 12,
      "outputs": []
    },
    {
      "cell_type": "code",
      "source": [
        "for layer in model.layers:\n",
        "  layer.trainable = False"
      ],
      "metadata": {
        "id": "Zt69QPsjzcmF"
      },
      "execution_count": 13,
      "outputs": []
    },
    {
      "cell_type": "code",
      "source": [
        "model.add(keras.layers.Dense(4, activation='softmax'))"
      ],
      "metadata": {
        "id": "Z8pB5C4ZzqBc"
      },
      "execution_count": 14,
      "outputs": []
    },
    {
      "cell_type": "code",
      "source": [
        "model.summary()"
      ],
      "metadata": {
        "colab": {
          "base_uri": "https://localhost:8080/"
        },
        "id": "dj_8ZtDLz52m",
        "outputId": "f48faccc-44db-4167-b760-45f3aeaad2d6"
      },
      "execution_count": 15,
      "outputs": [
        {
          "output_type": "stream",
          "name": "stdout",
          "text": [
            "Model: \"sequential\"\n",
            "_________________________________________________________________\n",
            " Layer (type)                Output Shape              Param #   \n",
            "=================================================================\n",
            " conv1 (Conv2D)              (None, 112, 112, 32)      864       \n",
            "                                                                 \n",
            " conv1_bn (BatchNormalizatio  (None, 112, 112, 32)     128       \n",
            " n)                                                              \n",
            "                                                                 \n",
            " conv1_relu (ReLU)           (None, 112, 112, 32)      0         \n",
            "                                                                 \n",
            " conv_dw_1 (DepthwiseConv2D)  (None, 112, 112, 32)     288       \n",
            "                                                                 \n",
            " conv_dw_1_bn (BatchNormaliz  (None, 112, 112, 32)     128       \n",
            " ation)                                                          \n",
            "                                                                 \n",
            " conv_dw_1_relu (ReLU)       (None, 112, 112, 32)      0         \n",
            "                                                                 \n",
            " conv_pw_1 (Conv2D)          (None, 112, 112, 64)      2048      \n",
            "                                                                 \n",
            " conv_pw_1_bn (BatchNormaliz  (None, 112, 112, 64)     256       \n",
            " ation)                                                          \n",
            "                                                                 \n",
            " conv_pw_1_relu (ReLU)       (None, 112, 112, 64)      0         \n",
            "                                                                 \n",
            " conv_pad_2 (ZeroPadding2D)  (None, 113, 113, 64)      0         \n",
            "                                                                 \n",
            " conv_dw_2 (DepthwiseConv2D)  (None, 56, 56, 64)       576       \n",
            "                                                                 \n",
            " conv_dw_2_bn (BatchNormaliz  (None, 56, 56, 64)       256       \n",
            " ation)                                                          \n",
            "                                                                 \n",
            " conv_dw_2_relu (ReLU)       (None, 56, 56, 64)        0         \n",
            "                                                                 \n",
            " conv_pw_2 (Conv2D)          (None, 56, 56, 128)       8192      \n",
            "                                                                 \n",
            " conv_pw_2_bn (BatchNormaliz  (None, 56, 56, 128)      512       \n",
            " ation)                                                          \n",
            "                                                                 \n",
            " conv_pw_2_relu (ReLU)       (None, 56, 56, 128)       0         \n",
            "                                                                 \n",
            " conv_dw_3 (DepthwiseConv2D)  (None, 56, 56, 128)      1152      \n",
            "                                                                 \n",
            " conv_dw_3_bn (BatchNormaliz  (None, 56, 56, 128)      512       \n",
            " ation)                                                          \n",
            "                                                                 \n",
            " conv_dw_3_relu (ReLU)       (None, 56, 56, 128)       0         \n",
            "                                                                 \n",
            " conv_pw_3 (Conv2D)          (None, 56, 56, 128)       16384     \n",
            "                                                                 \n",
            " conv_pw_3_bn (BatchNormaliz  (None, 56, 56, 128)      512       \n",
            " ation)                                                          \n",
            "                                                                 \n",
            " conv_pw_3_relu (ReLU)       (None, 56, 56, 128)       0         \n",
            "                                                                 \n",
            " conv_pad_4 (ZeroPadding2D)  (None, 57, 57, 128)       0         \n",
            "                                                                 \n",
            " conv_dw_4 (DepthwiseConv2D)  (None, 28, 28, 128)      1152      \n",
            "                                                                 \n",
            " conv_dw_4_bn (BatchNormaliz  (None, 28, 28, 128)      512       \n",
            " ation)                                                          \n",
            "                                                                 \n",
            " conv_dw_4_relu (ReLU)       (None, 28, 28, 128)       0         \n",
            "                                                                 \n",
            " conv_pw_4 (Conv2D)          (None, 28, 28, 256)       32768     \n",
            "                                                                 \n",
            " conv_pw_4_bn (BatchNormaliz  (None, 28, 28, 256)      1024      \n",
            " ation)                                                          \n",
            "                                                                 \n",
            " conv_pw_4_relu (ReLU)       (None, 28, 28, 256)       0         \n",
            "                                                                 \n",
            " conv_dw_5 (DepthwiseConv2D)  (None, 28, 28, 256)      2304      \n",
            "                                                                 \n",
            " conv_dw_5_bn (BatchNormaliz  (None, 28, 28, 256)      1024      \n",
            " ation)                                                          \n",
            "                                                                 \n",
            " conv_dw_5_relu (ReLU)       (None, 28, 28, 256)       0         \n",
            "                                                                 \n",
            " conv_pw_5 (Conv2D)          (None, 28, 28, 256)       65536     \n",
            "                                                                 \n",
            " conv_pw_5_bn (BatchNormaliz  (None, 28, 28, 256)      1024      \n",
            " ation)                                                          \n",
            "                                                                 \n",
            " conv_pw_5_relu (ReLU)       (None, 28, 28, 256)       0         \n",
            "                                                                 \n",
            " conv_pad_6 (ZeroPadding2D)  (None, 29, 29, 256)       0         \n",
            "                                                                 \n",
            " conv_dw_6 (DepthwiseConv2D)  (None, 14, 14, 256)      2304      \n",
            "                                                                 \n",
            " conv_dw_6_bn (BatchNormaliz  (None, 14, 14, 256)      1024      \n",
            " ation)                                                          \n",
            "                                                                 \n",
            " conv_dw_6_relu (ReLU)       (None, 14, 14, 256)       0         \n",
            "                                                                 \n",
            " conv_pw_6 (Conv2D)          (None, 14, 14, 512)       131072    \n",
            "                                                                 \n",
            " conv_pw_6_bn (BatchNormaliz  (None, 14, 14, 512)      2048      \n",
            " ation)                                                          \n",
            "                                                                 \n",
            " conv_pw_6_relu (ReLU)       (None, 14, 14, 512)       0         \n",
            "                                                                 \n",
            " conv_dw_7 (DepthwiseConv2D)  (None, 14, 14, 512)      4608      \n",
            "                                                                 \n",
            " conv_dw_7_bn (BatchNormaliz  (None, 14, 14, 512)      2048      \n",
            " ation)                                                          \n",
            "                                                                 \n",
            " conv_dw_7_relu (ReLU)       (None, 14, 14, 512)       0         \n",
            "                                                                 \n",
            " conv_pw_7 (Conv2D)          (None, 14, 14, 512)       262144    \n",
            "                                                                 \n",
            " conv_pw_7_bn (BatchNormaliz  (None, 14, 14, 512)      2048      \n",
            " ation)                                                          \n",
            "                                                                 \n",
            " conv_pw_7_relu (ReLU)       (None, 14, 14, 512)       0         \n",
            "                                                                 \n",
            " conv_dw_8 (DepthwiseConv2D)  (None, 14, 14, 512)      4608      \n",
            "                                                                 \n",
            " conv_dw_8_bn (BatchNormaliz  (None, 14, 14, 512)      2048      \n",
            " ation)                                                          \n",
            "                                                                 \n",
            " conv_dw_8_relu (ReLU)       (None, 14, 14, 512)       0         \n",
            "                                                                 \n",
            " conv_pw_8 (Conv2D)          (None, 14, 14, 512)       262144    \n",
            "                                                                 \n",
            " conv_pw_8_bn (BatchNormaliz  (None, 14, 14, 512)      2048      \n",
            " ation)                                                          \n",
            "                                                                 \n",
            " conv_pw_8_relu (ReLU)       (None, 14, 14, 512)       0         \n",
            "                                                                 \n",
            " conv_dw_9 (DepthwiseConv2D)  (None, 14, 14, 512)      4608      \n",
            "                                                                 \n",
            " conv_dw_9_bn (BatchNormaliz  (None, 14, 14, 512)      2048      \n",
            " ation)                                                          \n",
            "                                                                 \n",
            " conv_dw_9_relu (ReLU)       (None, 14, 14, 512)       0         \n",
            "                                                                 \n",
            " conv_pw_9 (Conv2D)          (None, 14, 14, 512)       262144    \n",
            "                                                                 \n",
            " conv_pw_9_bn (BatchNormaliz  (None, 14, 14, 512)      2048      \n",
            " ation)                                                          \n",
            "                                                                 \n",
            " conv_pw_9_relu (ReLU)       (None, 14, 14, 512)       0         \n",
            "                                                                 \n",
            " conv_dw_10 (DepthwiseConv2D  (None, 14, 14, 512)      4608      \n",
            " )                                                               \n",
            "                                                                 \n",
            " conv_dw_10_bn (BatchNormali  (None, 14, 14, 512)      2048      \n",
            " zation)                                                         \n",
            "                                                                 \n",
            " conv_dw_10_relu (ReLU)      (None, 14, 14, 512)       0         \n",
            "                                                                 \n",
            " conv_pw_10 (Conv2D)         (None, 14, 14, 512)       262144    \n",
            "                                                                 \n",
            " conv_pw_10_bn (BatchNormali  (None, 14, 14, 512)      2048      \n",
            " zation)                                                         \n",
            "                                                                 \n",
            " conv_pw_10_relu (ReLU)      (None, 14, 14, 512)       0         \n",
            "                                                                 \n",
            " conv_dw_11 (DepthwiseConv2D  (None, 14, 14, 512)      4608      \n",
            " )                                                               \n",
            "                                                                 \n",
            " conv_dw_11_bn (BatchNormali  (None, 14, 14, 512)      2048      \n",
            " zation)                                                         \n",
            "                                                                 \n",
            " conv_dw_11_relu (ReLU)      (None, 14, 14, 512)       0         \n",
            "                                                                 \n",
            " conv_pw_11 (Conv2D)         (None, 14, 14, 512)       262144    \n",
            "                                                                 \n",
            " conv_pw_11_bn (BatchNormali  (None, 14, 14, 512)      2048      \n",
            " zation)                                                         \n",
            "                                                                 \n",
            " conv_pw_11_relu (ReLU)      (None, 14, 14, 512)       0         \n",
            "                                                                 \n",
            " conv_pad_12 (ZeroPadding2D)  (None, 15, 15, 512)      0         \n",
            "                                                                 \n",
            " conv_dw_12 (DepthwiseConv2D  (None, 7, 7, 512)        4608      \n",
            " )                                                               \n",
            "                                                                 \n",
            " conv_dw_12_bn (BatchNormali  (None, 7, 7, 512)        2048      \n",
            " zation)                                                         \n",
            "                                                                 \n",
            " conv_dw_12_relu (ReLU)      (None, 7, 7, 512)         0         \n",
            "                                                                 \n",
            " conv_pw_12 (Conv2D)         (None, 7, 7, 1024)        524288    \n",
            "                                                                 \n",
            " conv_pw_12_bn (BatchNormali  (None, 7, 7, 1024)       4096      \n",
            " zation)                                                         \n",
            "                                                                 \n",
            " conv_pw_12_relu (ReLU)      (None, 7, 7, 1024)        0         \n",
            "                                                                 \n",
            " conv_dw_13 (DepthwiseConv2D  (None, 7, 7, 1024)       9216      \n",
            " )                                                               \n",
            "                                                                 \n",
            " conv_dw_13_bn (BatchNormali  (None, 7, 7, 1024)       4096      \n",
            " zation)                                                         \n",
            "                                                                 \n",
            " conv_dw_13_relu (ReLU)      (None, 7, 7, 1024)        0         \n",
            "                                                                 \n",
            " conv_pw_13 (Conv2D)         (None, 7, 7, 1024)        1048576   \n",
            "                                                                 \n",
            " conv_pw_13_bn (BatchNormali  (None, 7, 7, 1024)       4096      \n",
            " zation)                                                         \n",
            "                                                                 \n",
            " conv_pw_13_relu (ReLU)      (None, 7, 7, 1024)        0         \n",
            "                                                                 \n",
            " global_average_pooling2d (G  (None, 1, 1, 1024)       0         \n",
            " lobalAveragePooling2D)                                          \n",
            "                                                                 \n",
            " dropout (Dropout)           (None, 1, 1, 1024)        0         \n",
            "                                                                 \n",
            " conv_preds (Conv2D)         (None, 1, 1, 1000)        1025000   \n",
            "                                                                 \n",
            " reshape_2 (Reshape)         (None, 1000)              0         \n",
            "                                                                 \n",
            " dense (Dense)               (None, 4)                 4004      \n",
            "                                                                 \n",
            "=================================================================\n",
            "Total params: 4,257,868\n",
            "Trainable params: 4,004\n",
            "Non-trainable params: 4,253,864\n",
            "_________________________________________________________________\n"
          ]
        }
      ]
    },
    {
      "cell_type": "code",
      "source": [
        "model.compile(optimizer='adam', loss='categorical_crossentropy', metrics=['accuracy'])"
      ],
      "metadata": {
        "id": "FSIbs1wiz8QE"
      },
      "execution_count": 16,
      "outputs": []
    },
    {
      "cell_type": "code",
      "source": [
        "history = model.fit(train_batches, validation_data=valid_batches, steps_per_epoch=len(train_batches), validation_steps=len(valid_batches), epochs=100, verbose=2)"
      ],
      "metadata": {
        "colab": {
          "base_uri": "https://localhost:8080/"
        },
        "id": "ySYLNt7j0WG9",
        "outputId": "99f8dd70-08c7-4e86-c16b-68ecd5706b21"
      },
      "execution_count": 17,
      "outputs": [
        {
          "output_type": "stream",
          "name": "stdout",
          "text": [
            "Epoch 1/100\n",
            "996/996 - 33s - loss: 1.0276 - accuracy: 0.6113 - val_loss: 1.1548 - val_accuracy: 0.6035 - 33s/epoch - 33ms/step\n",
            "Epoch 2/100\n",
            "996/996 - 28s - loss: 0.6760 - accuracy: 0.7384 - val_loss: 1.1442 - val_accuracy: 0.6253 - 28s/epoch - 28ms/step\n",
            "Epoch 3/100\n",
            "996/996 - 27s - loss: 0.5575 - accuracy: 0.7824 - val_loss: 1.1437 - val_accuracy: 0.6072 - 27s/epoch - 27ms/step\n",
            "Epoch 4/100\n",
            "996/996 - 27s - loss: 0.5295 - accuracy: 0.7977 - val_loss: 1.3760 - val_accuracy: 0.5553 - 27s/epoch - 27ms/step\n",
            "Epoch 5/100\n",
            "996/996 - 27s - loss: 0.4939 - accuracy: 0.8121 - val_loss: 1.3362 - val_accuracy: 0.5951 - 27s/epoch - 27ms/step\n",
            "Epoch 6/100\n",
            "996/996 - 27s - loss: 0.4943 - accuracy: 0.8111 - val_loss: 1.3949 - val_accuracy: 0.5947 - 27s/epoch - 27ms/step\n",
            "Epoch 7/100\n",
            "996/996 - 27s - loss: 0.4575 - accuracy: 0.8260 - val_loss: 1.3248 - val_accuracy: 0.5858 - 27s/epoch - 27ms/step\n",
            "Epoch 8/100\n",
            "996/996 - 27s - loss: 0.4538 - accuracy: 0.8305 - val_loss: 1.2280 - val_accuracy: 0.6437 - 27s/epoch - 27ms/step\n",
            "Epoch 9/100\n",
            "996/996 - 27s - loss: 0.4368 - accuracy: 0.8339 - val_loss: 1.7584 - val_accuracy: 0.5396 - 27s/epoch - 28ms/step\n",
            "Epoch 10/100\n",
            "996/996 - 27s - loss: 0.4240 - accuracy: 0.8384 - val_loss: 1.7152 - val_accuracy: 0.5589 - 27s/epoch - 27ms/step\n",
            "Epoch 11/100\n",
            "996/996 - 27s - loss: 0.4152 - accuracy: 0.8429 - val_loss: 1.5446 - val_accuracy: 0.5858 - 27s/epoch - 27ms/step\n",
            "Epoch 12/100\n",
            "996/996 - 27s - loss: 0.4368 - accuracy: 0.8405 - val_loss: 1.9219 - val_accuracy: 0.5501 - 27s/epoch - 28ms/step\n",
            "Epoch 13/100\n",
            "996/996 - 27s - loss: 0.3980 - accuracy: 0.8497 - val_loss: 1.4554 - val_accuracy: 0.5883 - 27s/epoch - 27ms/step\n",
            "Epoch 14/100\n",
            "996/996 - 27s - loss: 0.3996 - accuracy: 0.8511 - val_loss: 1.9674 - val_accuracy: 0.5509 - 27s/epoch - 27ms/step\n",
            "Epoch 15/100\n",
            "996/996 - 27s - loss: 0.4222 - accuracy: 0.8455 - val_loss: 1.9446 - val_accuracy: 0.5263 - 27s/epoch - 28ms/step\n",
            "Epoch 16/100\n",
            "996/996 - 27s - loss: 0.3624 - accuracy: 0.8627 - val_loss: 1.6860 - val_accuracy: 0.5657 - 27s/epoch - 27ms/step\n",
            "Epoch 17/100\n",
            "996/996 - 27s - loss: 0.3912 - accuracy: 0.8540 - val_loss: 1.6337 - val_accuracy: 0.5577 - 27s/epoch - 27ms/step\n",
            "Epoch 18/100\n",
            "996/996 - 27s - loss: 0.3754 - accuracy: 0.8594 - val_loss: 1.4862 - val_accuracy: 0.5971 - 27s/epoch - 27ms/step\n",
            "Epoch 19/100\n",
            "996/996 - 27s - loss: 0.3783 - accuracy: 0.8604 - val_loss: 1.8355 - val_accuracy: 0.5633 - 27s/epoch - 27ms/step\n",
            "Epoch 20/100\n",
            "996/996 - 27s - loss: 0.3777 - accuracy: 0.8600 - val_loss: 1.5303 - val_accuracy: 0.6080 - 27s/epoch - 27ms/step\n",
            "Epoch 21/100\n",
            "996/996 - 27s - loss: 0.3682 - accuracy: 0.8646 - val_loss: 1.8008 - val_accuracy: 0.5766 - 27s/epoch - 27ms/step\n",
            "Epoch 22/100\n",
            "996/996 - 27s - loss: 0.3519 - accuracy: 0.8675 - val_loss: 1.7240 - val_accuracy: 0.5842 - 27s/epoch - 27ms/step\n",
            "Epoch 23/100\n",
            "996/996 - 27s - loss: 0.3674 - accuracy: 0.8654 - val_loss: 1.7453 - val_accuracy: 0.5798 - 27s/epoch - 27ms/step\n",
            "Epoch 24/100\n",
            "996/996 - 27s - loss: 0.3822 - accuracy: 0.8593 - val_loss: 2.1198 - val_accuracy: 0.5392 - 27s/epoch - 27ms/step\n",
            "Epoch 25/100\n",
            "996/996 - 27s - loss: 0.3532 - accuracy: 0.8715 - val_loss: 1.7540 - val_accuracy: 0.5838 - 27s/epoch - 27ms/step\n",
            "Epoch 26/100\n",
            "996/996 - 27s - loss: 0.3423 - accuracy: 0.8730 - val_loss: 1.8761 - val_accuracy: 0.5875 - 27s/epoch - 27ms/step\n",
            "Epoch 27/100\n",
            "996/996 - 27s - loss: 0.3407 - accuracy: 0.8708 - val_loss: 1.8841 - val_accuracy: 0.5698 - 27s/epoch - 27ms/step\n",
            "Epoch 28/100\n",
            "996/996 - 27s - loss: 0.3492 - accuracy: 0.8705 - val_loss: 1.7129 - val_accuracy: 0.5979 - 27s/epoch - 27ms/step\n",
            "Epoch 29/100\n",
            "996/996 - 27s - loss: 0.3544 - accuracy: 0.8700 - val_loss: 1.8174 - val_accuracy: 0.5975 - 27s/epoch - 27ms/step\n",
            "Epoch 30/100\n",
            "996/996 - 27s - loss: 0.3423 - accuracy: 0.8719 - val_loss: 1.7108 - val_accuracy: 0.6112 - 27s/epoch - 27ms/step\n",
            "Epoch 31/100\n",
            "996/996 - 28s - loss: 0.3441 - accuracy: 0.8756 - val_loss: 1.9430 - val_accuracy: 0.5899 - 28s/epoch - 28ms/step\n",
            "Epoch 32/100\n",
            "996/996 - 27s - loss: 0.3417 - accuracy: 0.8758 - val_loss: 1.7435 - val_accuracy: 0.5991 - 27s/epoch - 28ms/step\n",
            "Epoch 33/100\n",
            "996/996 - 27s - loss: 0.3657 - accuracy: 0.8698 - val_loss: 2.2576 - val_accuracy: 0.5738 - 27s/epoch - 28ms/step\n",
            "Epoch 34/100\n",
            "996/996 - 27s - loss: 0.3359 - accuracy: 0.8765 - val_loss: 2.2218 - val_accuracy: 0.5645 - 27s/epoch - 27ms/step\n",
            "Epoch 35/100\n",
            "996/996 - 27s - loss: 0.3454 - accuracy: 0.8773 - val_loss: 1.8728 - val_accuracy: 0.5919 - 27s/epoch - 27ms/step\n",
            "Epoch 36/100\n",
            "996/996 - 27s - loss: 0.3242 - accuracy: 0.8815 - val_loss: 1.6661 - val_accuracy: 0.6441 - 27s/epoch - 27ms/step\n",
            "Epoch 37/100\n",
            "996/996 - 27s - loss: 0.3323 - accuracy: 0.8775 - val_loss: 1.7040 - val_accuracy: 0.6196 - 27s/epoch - 27ms/step\n",
            "Epoch 38/100\n",
            "996/996 - 27s - loss: 0.3045 - accuracy: 0.8875 - val_loss: 2.2372 - val_accuracy: 0.5489 - 27s/epoch - 27ms/step\n",
            "Epoch 39/100\n",
            "996/996 - 27s - loss: 0.3129 - accuracy: 0.8864 - val_loss: 1.8252 - val_accuracy: 0.5915 - 27s/epoch - 27ms/step\n",
            "Epoch 40/100\n",
            "996/996 - 27s - loss: 0.3255 - accuracy: 0.8805 - val_loss: 1.8198 - val_accuracy: 0.6027 - 27s/epoch - 27ms/step\n",
            "Epoch 41/100\n",
            "996/996 - 27s - loss: 0.3320 - accuracy: 0.8792 - val_loss: 2.3456 - val_accuracy: 0.5561 - 27s/epoch - 27ms/step\n",
            "Epoch 42/100\n",
            "996/996 - 27s - loss: 0.3431 - accuracy: 0.8765 - val_loss: 1.9945 - val_accuracy: 0.5846 - 27s/epoch - 27ms/step\n",
            "Epoch 43/100\n",
            "996/996 - 32s - loss: 0.3103 - accuracy: 0.8839 - val_loss: 1.9125 - val_accuracy: 0.5834 - 32s/epoch - 32ms/step\n",
            "Epoch 44/100\n",
            "996/996 - 27s - loss: 0.3006 - accuracy: 0.8892 - val_loss: 2.2624 - val_accuracy: 0.5605 - 27s/epoch - 27ms/step\n",
            "Epoch 45/100\n",
            "996/996 - 27s - loss: 0.3123 - accuracy: 0.8903 - val_loss: 1.9897 - val_accuracy: 0.5842 - 27s/epoch - 27ms/step\n",
            "Epoch 46/100\n",
            "996/996 - 28s - loss: 0.3145 - accuracy: 0.8825 - val_loss: 1.8062 - val_accuracy: 0.6027 - 28s/epoch - 28ms/step\n",
            "Epoch 47/100\n",
            "996/996 - 27s - loss: 0.3242 - accuracy: 0.8795 - val_loss: 1.8133 - val_accuracy: 0.6144 - 27s/epoch - 27ms/step\n",
            "Epoch 48/100\n",
            "996/996 - 27s - loss: 0.3098 - accuracy: 0.8879 - val_loss: 2.2466 - val_accuracy: 0.5665 - 27s/epoch - 27ms/step\n",
            "Epoch 49/100\n",
            "996/996 - 26s - loss: 0.3223 - accuracy: 0.8855 - val_loss: 1.8371 - val_accuracy: 0.6076 - 26s/epoch - 27ms/step\n",
            "Epoch 50/100\n",
            "996/996 - 27s - loss: 0.3172 - accuracy: 0.8828 - val_loss: 2.5132 - val_accuracy: 0.5468 - 27s/epoch - 27ms/step\n",
            "Epoch 51/100\n",
            "996/996 - 27s - loss: 0.3153 - accuracy: 0.8894 - val_loss: 1.8094 - val_accuracy: 0.6060 - 27s/epoch - 27ms/step\n",
            "Epoch 52/100\n",
            "996/996 - 27s - loss: 0.3282 - accuracy: 0.8808 - val_loss: 1.8225 - val_accuracy: 0.6148 - 27s/epoch - 27ms/step\n",
            "Epoch 53/100\n",
            "996/996 - 26s - loss: 0.2903 - accuracy: 0.8934 - val_loss: 1.9367 - val_accuracy: 0.5971 - 26s/epoch - 26ms/step\n",
            "Epoch 54/100\n",
            "996/996 - 26s - loss: 0.3272 - accuracy: 0.8879 - val_loss: 1.8121 - val_accuracy: 0.6156 - 26s/epoch - 26ms/step\n",
            "Epoch 55/100\n",
            "996/996 - 26s - loss: 0.3021 - accuracy: 0.8876 - val_loss: 2.3289 - val_accuracy: 0.5661 - 26s/epoch - 27ms/step\n",
            "Epoch 56/100\n",
            "996/996 - 26s - loss: 0.3190 - accuracy: 0.8858 - val_loss: 2.2330 - val_accuracy: 0.5742 - 26s/epoch - 27ms/step\n",
            "Epoch 57/100\n",
            "996/996 - 26s - loss: 0.2979 - accuracy: 0.8896 - val_loss: 2.4908 - val_accuracy: 0.5585 - 26s/epoch - 27ms/step\n",
            "Epoch 58/100\n",
            "996/996 - 26s - loss: 0.3000 - accuracy: 0.8903 - val_loss: 2.3110 - val_accuracy: 0.5782 - 26s/epoch - 27ms/step\n",
            "Epoch 59/100\n",
            "996/996 - 26s - loss: 0.3232 - accuracy: 0.8867 - val_loss: 2.4932 - val_accuracy: 0.5489 - 26s/epoch - 26ms/step\n",
            "Epoch 60/100\n",
            "996/996 - 26s - loss: 0.3025 - accuracy: 0.8907 - val_loss: 2.0852 - val_accuracy: 0.5826 - 26s/epoch - 26ms/step\n",
            "Epoch 61/100\n",
            "996/996 - 26s - loss: 0.3169 - accuracy: 0.8842 - val_loss: 2.3900 - val_accuracy: 0.5669 - 26s/epoch - 26ms/step\n",
            "Epoch 62/100\n",
            "996/996 - 26s - loss: 0.2931 - accuracy: 0.8951 - val_loss: 2.1151 - val_accuracy: 0.5935 - 26s/epoch - 27ms/step\n",
            "Epoch 63/100\n",
            "996/996 - 26s - loss: 0.2914 - accuracy: 0.8934 - val_loss: 2.3787 - val_accuracy: 0.5726 - 26s/epoch - 26ms/step\n",
            "Epoch 64/100\n",
            "996/996 - 26s - loss: 0.2803 - accuracy: 0.8951 - val_loss: 1.9752 - val_accuracy: 0.5903 - 26s/epoch - 26ms/step\n",
            "Epoch 65/100\n",
            "996/996 - 26s - loss: 0.2929 - accuracy: 0.8930 - val_loss: 2.3139 - val_accuracy: 0.5585 - 26s/epoch - 27ms/step\n",
            "Epoch 66/100\n",
            "996/996 - 27s - loss: 0.3036 - accuracy: 0.8915 - val_loss: 2.3165 - val_accuracy: 0.5585 - 27s/epoch - 27ms/step\n",
            "Epoch 67/100\n",
            "996/996 - 27s - loss: 0.2883 - accuracy: 0.8979 - val_loss: 2.2019 - val_accuracy: 0.5895 - 27s/epoch - 27ms/step\n",
            "Epoch 68/100\n",
            "996/996 - 27s - loss: 0.2967 - accuracy: 0.8927 - val_loss: 2.0384 - val_accuracy: 0.5903 - 27s/epoch - 27ms/step\n",
            "Epoch 69/100\n",
            "996/996 - 27s - loss: 0.2855 - accuracy: 0.8929 - val_loss: 2.0894 - val_accuracy: 0.5818 - 27s/epoch - 27ms/step\n",
            "Epoch 70/100\n",
            "996/996 - 27s - loss: 0.3080 - accuracy: 0.8880 - val_loss: 2.2754 - val_accuracy: 0.5762 - 27s/epoch - 27ms/step\n",
            "Epoch 71/100\n",
            "996/996 - 27s - loss: 0.2963 - accuracy: 0.8918 - val_loss: 2.8452 - val_accuracy: 0.5460 - 27s/epoch - 27ms/step\n",
            "Epoch 72/100\n",
            "996/996 - 27s - loss: 0.3032 - accuracy: 0.8932 - val_loss: 2.1887 - val_accuracy: 0.5883 - 27s/epoch - 27ms/step\n",
            "Epoch 73/100\n",
            "996/996 - 27s - loss: 0.2878 - accuracy: 0.8931 - val_loss: 2.4457 - val_accuracy: 0.5686 - 27s/epoch - 27ms/step\n",
            "Epoch 74/100\n",
            "996/996 - 27s - loss: 0.2871 - accuracy: 0.8967 - val_loss: 1.9462 - val_accuracy: 0.6164 - 27s/epoch - 27ms/step\n",
            "Epoch 75/100\n",
            "996/996 - 26s - loss: 0.2869 - accuracy: 0.8967 - val_loss: 2.3801 - val_accuracy: 0.5850 - 26s/epoch - 27ms/step\n",
            "Epoch 76/100\n",
            "996/996 - 26s - loss: 0.2923 - accuracy: 0.8953 - val_loss: 2.8370 - val_accuracy: 0.5517 - 26s/epoch - 26ms/step\n",
            "Epoch 77/100\n",
            "996/996 - 26s - loss: 0.2956 - accuracy: 0.8942 - val_loss: 2.7725 - val_accuracy: 0.5533 - 26s/epoch - 27ms/step\n",
            "Epoch 78/100\n",
            "996/996 - 27s - loss: 0.3116 - accuracy: 0.8877 - val_loss: 2.1998 - val_accuracy: 0.5718 - 27s/epoch - 27ms/step\n",
            "Epoch 79/100\n",
            "996/996 - 27s - loss: 0.2757 - accuracy: 0.9010 - val_loss: 2.0304 - val_accuracy: 0.6080 - 27s/epoch - 27ms/step\n",
            "Epoch 80/100\n",
            "996/996 - 27s - loss: 0.2779 - accuracy: 0.9004 - val_loss: 2.5290 - val_accuracy: 0.5653 - 27s/epoch - 27ms/step\n",
            "Epoch 81/100\n",
            "996/996 - 27s - loss: 0.2868 - accuracy: 0.8952 - val_loss: 2.6984 - val_accuracy: 0.5609 - 27s/epoch - 27ms/step\n",
            "Epoch 82/100\n",
            "996/996 - 26s - loss: 0.2777 - accuracy: 0.8960 - val_loss: 2.3138 - val_accuracy: 0.5818 - 26s/epoch - 27ms/step\n",
            "Epoch 83/100\n",
            "996/996 - 26s - loss: 0.2856 - accuracy: 0.8982 - val_loss: 2.9478 - val_accuracy: 0.5316 - 26s/epoch - 26ms/step\n",
            "Epoch 84/100\n",
            "996/996 - 26s - loss: 0.2941 - accuracy: 0.8937 - val_loss: 2.3271 - val_accuracy: 0.5826 - 26s/epoch - 27ms/step\n",
            "Epoch 85/100\n",
            "996/996 - 26s - loss: 0.2733 - accuracy: 0.8995 - val_loss: 2.5361 - val_accuracy: 0.5718 - 26s/epoch - 26ms/step\n",
            "Epoch 86/100\n",
            "996/996 - 26s - loss: 0.2961 - accuracy: 0.8955 - val_loss: 2.8142 - val_accuracy: 0.5420 - 26s/epoch - 27ms/step\n",
            "Epoch 87/100\n",
            "996/996 - 26s - loss: 0.2802 - accuracy: 0.8962 - val_loss: 2.2703 - val_accuracy: 0.5678 - 26s/epoch - 26ms/step\n",
            "Epoch 88/100\n",
            "996/996 - 26s - loss: 0.2895 - accuracy: 0.8961 - val_loss: 2.4691 - val_accuracy: 0.5653 - 26s/epoch - 26ms/step\n",
            "Epoch 89/100\n",
            "996/996 - 26s - loss: 0.2762 - accuracy: 0.9007 - val_loss: 2.6469 - val_accuracy: 0.5621 - 26s/epoch - 26ms/step\n",
            "Epoch 90/100\n",
            "996/996 - 26s - loss: 0.2706 - accuracy: 0.9028 - val_loss: 2.2616 - val_accuracy: 0.5758 - 26s/epoch - 27ms/step\n",
            "Epoch 91/100\n",
            "996/996 - 26s - loss: 0.2626 - accuracy: 0.9024 - val_loss: 2.3844 - val_accuracy: 0.5730 - 26s/epoch - 27ms/step\n",
            "Epoch 92/100\n",
            "996/996 - 26s - loss: 0.2723 - accuracy: 0.9016 - val_loss: 2.3053 - val_accuracy: 0.5806 - 26s/epoch - 27ms/step\n",
            "Epoch 93/100\n",
            "996/996 - 27s - loss: 0.2675 - accuracy: 0.8991 - val_loss: 2.3578 - val_accuracy: 0.5714 - 27s/epoch - 27ms/step\n",
            "Epoch 94/100\n",
            "996/996 - 27s - loss: 0.2761 - accuracy: 0.9017 - val_loss: 2.6901 - val_accuracy: 0.5601 - 27s/epoch - 27ms/step\n",
            "Epoch 95/100\n",
            "996/996 - 27s - loss: 0.2818 - accuracy: 0.8979 - val_loss: 2.7306 - val_accuracy: 0.5702 - 27s/epoch - 27ms/step\n",
            "Epoch 96/100\n",
            "996/996 - 27s - loss: 0.2600 - accuracy: 0.9050 - val_loss: 2.4230 - val_accuracy: 0.5762 - 27s/epoch - 27ms/step\n",
            "Epoch 97/100\n",
            "996/996 - 27s - loss: 0.2682 - accuracy: 0.9054 - val_loss: 2.7728 - val_accuracy: 0.5549 - 27s/epoch - 27ms/step\n",
            "Epoch 98/100\n",
            "996/996 - 27s - loss: 0.2829 - accuracy: 0.8995 - val_loss: 2.6707 - val_accuracy: 0.5645 - 27s/epoch - 27ms/step\n",
            "Epoch 99/100\n",
            "996/996 - 27s - loss: 0.2598 - accuracy: 0.9034 - val_loss: 2.6839 - val_accuracy: 0.5569 - 27s/epoch - 27ms/step\n",
            "Epoch 100/100\n",
            "996/996 - 27s - loss: 0.2811 - accuracy: 0.8996 - val_loss: 2.2560 - val_accuracy: 0.5995 - 27s/epoch - 27ms/step\n"
          ]
        }
      ]
    },
    {
      "cell_type": "code",
      "source": [
        "history_df = pd.DataFrame(history.history)\n",
        "history_df.loc[:,['loss', 'val_loss']].plot()\n",
        "history_df.loc[:,['accuracy', 'val_accuracy']].plot()"
      ],
      "metadata": {
        "colab": {
          "base_uri": "https://localhost:8080/",
          "height": 530
        },
        "id": "JVFLB5TICYS3",
        "outputId": "f86a3fbe-b9a0-4c9a-ccc5-0930e25c3f99"
      },
      "execution_count": 18,
      "outputs": [
        {
          "output_type": "execute_result",
          "data": {
            "text/plain": [
              "<matplotlib.axes._subplots.AxesSubplot at 0x7f6fca203110>"
            ]
          },
          "metadata": {},
          "execution_count": 18
        },
        {
          "output_type": "display_data",
          "data": {
            "image/png": "[encoded data removed]",
            "text/plain": [
              "<Figure size 432x288 with 1 Axes>"
            ]
          },
          "metadata": {
            "needs_background": "light"
          }
        },
        {
          "output_type": "display_data",
          "data": {
            "image/png": "[encoded data removed]",
            "text/plain": [
              "<Figure size 432x288 with 1 Axes>"
            ]
          },
          "metadata": {
            "needs_background": "light"
          }
        }
      ]
    },
    {
      "cell_type": "code",
      "source": [
        "from sklearn.metrics import confusion_matrix, classification_report\n",
        "test_labels = test_batches.classes\n",
        "predictions = model.predict(test_batches, verbose=0)"
      ],
      "metadata": {
        "id": "nZ4Ne0Ll0yMc"
      },
      "execution_count": 29,
      "outputs": []
    },
    {
      "cell_type": "code",
      "source": [
        "from numpy import argmax\n",
        "predictions = argmax(predictions, axis=1)"
      ],
      "metadata": {
        "id": "iERzlt125lQJ"
      },
      "execution_count": 30,
      "outputs": []
    },
    {
      "cell_type": "code",
      "source": [
        "predictions"
      ],
      "metadata": {
        "colab": {
          "base_uri": "https://localhost:8080/"
        },
        "id": "jksvivrw6PBM",
        "outputId": "fc78f31a-c8ce-4b41-974d-9a45ac7cde92"
      },
      "execution_count": 31,
      "outputs": [
        {
          "output_type": "execute_result",
          "data": {
            "text/plain": [
              "array([3, 1, 3, 3, 3, 3, 0, 3, 3, 3, 0, 0, 1, 3, 1, 3, 3, 1, 3, 3, 0, 3,\n",
              "       3, 3, 3, 3, 3, 3, 3, 3, 3, 3, 3, 3, 3, 3, 3, 3, 3, 3, 3, 3, 3, 3,\n",
              "       1, 2, 3, 1, 3, 3, 3, 3, 3, 3, 3, 3, 3, 3, 3, 3, 3, 3, 3, 3, 1, 3,\n",
              "       3, 3, 3, 3, 3])"
            ]
          },
          "metadata": {},
          "execution_count": 31
        }
      ]
    },
    {
      "cell_type": "code",
      "source": [
        "confusion_matrix(test_labels, predictions)"
      ],
      "metadata": {
        "colab": {
          "base_uri": "https://localhost:8080/"
        },
        "id": "79aS8wRK4238",
        "outputId": "8d4eb96a-0a52-466e-e528-cc11de7d61ad"
      },
      "execution_count": 32,
      "outputs": [
        {
          "output_type": "execute_result",
          "data": {
            "text/plain": [
              "array([[ 3,  2,  0,  8],\n",
              "       [ 0,  2,  0,  4],\n",
              "       [ 1,  0,  0,  3],\n",
              "       [ 0,  3,  1, 44]])"
            ]
          },
          "metadata": {},
          "execution_count": 32
        }
      ]
    },
    {
      "cell_type": "code",
      "source": [
        "import seaborn as sns\n",
        "def print_conf_mat(pred, y_values):\n",
        "  cf_matrix = confusion_matrix(y_values,pred)\n",
        "  df_cf_matrix = pd.DataFrame(cf_matrix, index = [i for i in range(4)],\n",
        "                    columns = [i for i in range(4)])\n",
        "\n",
        "  fig, ax = plt.subplots(figsize=(5,5))\n",
        "  sns.heatmap(df_cf_matrix, cmap=\"Blues\", annot=True, annot_kws={\"size\": 16},fmt='d')\n",
        "  ax.set_xticklabels(('Cloudy','Desert','Green area','Water'))\n",
        "  ax.set_yticklabels(('Cloudy','Desert','Green area','Water'))\n",
        "\n",
        "\n",
        "  plt.title('confusion matrix')\n",
        "\n",
        "  plt.show()\n",
        "\n",
        "  print(classification_report(y_values,pred)) # 0 = Cloudy, 1 = desert, 2 = green_area, 3 = water"
      ],
      "metadata": {
        "id": "gkHlmZzsPrSs"
      },
      "execution_count": 33,
      "outputs": []
    },
    {
      "cell_type": "code",
      "source": [
        "print_conf_mat(predictions, test_labels)"
      ],
      "metadata": {
        "colab": {
          "base_uri": "https://localhost:8080/",
          "height": 527
        },
        "id": "kZ935hGdPsdT",
        "outputId": "3fd5c343-3422-41d1-c5fc-5ba365c70559"
      },
      "execution_count": 34,
      "outputs": [
        {
          "output_type": "display_data",
          "data": {
            "image/png": "[encoded data removed]",
            "text/plain": [
              "<Figure size 360x360 with 2 Axes>"
            ]
          },
          "metadata": {
            "needs_background": "light"
          }
        },
        {
          "output_type": "stream",
          "name": "stdout",
          "text": [
            "              precision    recall  f1-score   support\n",
            "\n",
            "           0       0.75      0.23      0.35        13\n",
            "           1       0.29      0.33      0.31         6\n",
            "           2       0.00      0.00      0.00         4\n",
            "           3       0.75      0.92      0.82        48\n",
            "\n",
            "    accuracy                           0.69        71\n",
            "   macro avg       0.45      0.37      0.37        71\n",
            "weighted avg       0.67      0.69      0.65        71\n",
            "\n"
          ]
        }
      ]
    },
    {
      "cell_type": "code",
      "source": [
        ""
      ],
      "metadata": {
        "id": "uC1cqIY4QPn2"
      },
      "execution_count": null,
      "outputs": []
    }
  ]
}